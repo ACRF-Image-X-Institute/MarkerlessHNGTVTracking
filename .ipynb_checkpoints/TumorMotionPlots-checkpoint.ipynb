{
 "cells": [
  {
   "cell_type": "code",
   "execution_count": 1,
   "id": "d63f932e-c93c-446b-99a8-144d7217589b",
   "metadata": {},
   "outputs": [],
   "source": [
    "import matplotlib.pyplot as plt\n",
    "import seaborn as sns\n",
    "import pandas as pd\n",
    "import numpy as np"
   ]
  },
  {
   "cell_type": "markdown",
   "id": "296fa8b2-3da7-4fb6-8c29-8c4dc03393f1",
   "metadata": {},
   "source": [
    "Add location of combined results csv file to \"ResultsFile\""
   ]
  },
  {
   "cell_type": "code",
   "execution_count": 2,
   "id": "7da095cf-ed5d-4603-bbda-da78f46f4890",
   "metadata": {},
   "outputs": [
    {
     "ename": "FileNotFoundError",
     "evalue": "[Errno 2] No such file or directory: ''",
     "output_type": "error",
     "traceback": [
      "\u001b[1;31m---------------------------------------------------------------------------\u001b[0m",
      "\u001b[1;31mFileNotFoundError\u001b[0m                         Traceback (most recent call last)",
      "Input \u001b[1;32mIn [2]\u001b[0m, in \u001b[0;36m<cell line: 2>\u001b[1;34m()\u001b[0m\n\u001b[0;32m      1\u001b[0m ResultsFile \u001b[38;5;241m=\u001b[39m \u001b[38;5;124m\"\u001b[39m\u001b[38;5;124m\"\u001b[39m\n\u001b[1;32m----> 2\u001b[0m Motionresults \u001b[38;5;241m=\u001b[39m \u001b[43mpd\u001b[49m\u001b[38;5;241;43m.\u001b[39;49m\u001b[43mread_csv\u001b[49m\u001b[43m(\u001b[49m\u001b[43mResultsFile\u001b[49m\u001b[43m)\u001b[49m\n",
      "File \u001b[1;32m~\\Anaconda3\\lib\\site-packages\\pandas\\util\\_decorators.py:311\u001b[0m, in \u001b[0;36mdeprecate_nonkeyword_arguments.<locals>.decorate.<locals>.wrapper\u001b[1;34m(*args, **kwargs)\u001b[0m\n\u001b[0;32m    305\u001b[0m \u001b[38;5;28;01mif\u001b[39;00m \u001b[38;5;28mlen\u001b[39m(args) \u001b[38;5;241m>\u001b[39m num_allow_args:\n\u001b[0;32m    306\u001b[0m     warnings\u001b[38;5;241m.\u001b[39mwarn(\n\u001b[0;32m    307\u001b[0m         msg\u001b[38;5;241m.\u001b[39mformat(arguments\u001b[38;5;241m=\u001b[39marguments),\n\u001b[0;32m    308\u001b[0m         \u001b[38;5;167;01mFutureWarning\u001b[39;00m,\n\u001b[0;32m    309\u001b[0m         stacklevel\u001b[38;5;241m=\u001b[39mstacklevel,\n\u001b[0;32m    310\u001b[0m     )\n\u001b[1;32m--> 311\u001b[0m \u001b[38;5;28;01mreturn\u001b[39;00m func(\u001b[38;5;241m*\u001b[39margs, \u001b[38;5;241m*\u001b[39m\u001b[38;5;241m*\u001b[39mkwargs)\n",
      "File \u001b[1;32m~\\Anaconda3\\lib\\site-packages\\pandas\\io\\parsers\\readers.py:680\u001b[0m, in \u001b[0;36mread_csv\u001b[1;34m(filepath_or_buffer, sep, delimiter, header, names, index_col, usecols, squeeze, prefix, mangle_dupe_cols, dtype, engine, converters, true_values, false_values, skipinitialspace, skiprows, skipfooter, nrows, na_values, keep_default_na, na_filter, verbose, skip_blank_lines, parse_dates, infer_datetime_format, keep_date_col, date_parser, dayfirst, cache_dates, iterator, chunksize, compression, thousands, decimal, lineterminator, quotechar, quoting, doublequote, escapechar, comment, encoding, encoding_errors, dialect, error_bad_lines, warn_bad_lines, on_bad_lines, delim_whitespace, low_memory, memory_map, float_precision, storage_options)\u001b[0m\n\u001b[0;32m    665\u001b[0m kwds_defaults \u001b[38;5;241m=\u001b[39m _refine_defaults_read(\n\u001b[0;32m    666\u001b[0m     dialect,\n\u001b[0;32m    667\u001b[0m     delimiter,\n\u001b[1;32m   (...)\u001b[0m\n\u001b[0;32m    676\u001b[0m     defaults\u001b[38;5;241m=\u001b[39m{\u001b[38;5;124m\"\u001b[39m\u001b[38;5;124mdelimiter\u001b[39m\u001b[38;5;124m\"\u001b[39m: \u001b[38;5;124m\"\u001b[39m\u001b[38;5;124m,\u001b[39m\u001b[38;5;124m\"\u001b[39m},\n\u001b[0;32m    677\u001b[0m )\n\u001b[0;32m    678\u001b[0m kwds\u001b[38;5;241m.\u001b[39mupdate(kwds_defaults)\n\u001b[1;32m--> 680\u001b[0m \u001b[38;5;28;01mreturn\u001b[39;00m \u001b[43m_read\u001b[49m\u001b[43m(\u001b[49m\u001b[43mfilepath_or_buffer\u001b[49m\u001b[43m,\u001b[49m\u001b[43m \u001b[49m\u001b[43mkwds\u001b[49m\u001b[43m)\u001b[49m\n",
      "File \u001b[1;32m~\\Anaconda3\\lib\\site-packages\\pandas\\io\\parsers\\readers.py:575\u001b[0m, in \u001b[0;36m_read\u001b[1;34m(filepath_or_buffer, kwds)\u001b[0m\n\u001b[0;32m    572\u001b[0m _validate_names(kwds\u001b[38;5;241m.\u001b[39mget(\u001b[38;5;124m\"\u001b[39m\u001b[38;5;124mnames\u001b[39m\u001b[38;5;124m\"\u001b[39m, \u001b[38;5;28;01mNone\u001b[39;00m))\n\u001b[0;32m    574\u001b[0m \u001b[38;5;66;03m# Create the parser.\u001b[39;00m\n\u001b[1;32m--> 575\u001b[0m parser \u001b[38;5;241m=\u001b[39m TextFileReader(filepath_or_buffer, \u001b[38;5;241m*\u001b[39m\u001b[38;5;241m*\u001b[39mkwds)\n\u001b[0;32m    577\u001b[0m \u001b[38;5;28;01mif\u001b[39;00m chunksize \u001b[38;5;129;01mor\u001b[39;00m iterator:\n\u001b[0;32m    578\u001b[0m     \u001b[38;5;28;01mreturn\u001b[39;00m parser\n",
      "File \u001b[1;32m~\\Anaconda3\\lib\\site-packages\\pandas\\io\\parsers\\readers.py:933\u001b[0m, in \u001b[0;36mTextFileReader.__init__\u001b[1;34m(self, f, engine, **kwds)\u001b[0m\n\u001b[0;32m    930\u001b[0m     \u001b[38;5;28mself\u001b[39m\u001b[38;5;241m.\u001b[39moptions[\u001b[38;5;124m\"\u001b[39m\u001b[38;5;124mhas_index_names\u001b[39m\u001b[38;5;124m\"\u001b[39m] \u001b[38;5;241m=\u001b[39m kwds[\u001b[38;5;124m\"\u001b[39m\u001b[38;5;124mhas_index_names\u001b[39m\u001b[38;5;124m\"\u001b[39m]\n\u001b[0;32m    932\u001b[0m \u001b[38;5;28mself\u001b[39m\u001b[38;5;241m.\u001b[39mhandles: IOHandles \u001b[38;5;241m|\u001b[39m \u001b[38;5;28;01mNone\u001b[39;00m \u001b[38;5;241m=\u001b[39m \u001b[38;5;28;01mNone\u001b[39;00m\n\u001b[1;32m--> 933\u001b[0m \u001b[38;5;28mself\u001b[39m\u001b[38;5;241m.\u001b[39m_engine \u001b[38;5;241m=\u001b[39m \u001b[38;5;28;43mself\u001b[39;49m\u001b[38;5;241;43m.\u001b[39;49m\u001b[43m_make_engine\u001b[49m\u001b[43m(\u001b[49m\u001b[43mf\u001b[49m\u001b[43m,\u001b[49m\u001b[43m \u001b[49m\u001b[38;5;28;43mself\u001b[39;49m\u001b[38;5;241;43m.\u001b[39;49m\u001b[43mengine\u001b[49m\u001b[43m)\u001b[49m\n",
      "File \u001b[1;32m~\\Anaconda3\\lib\\site-packages\\pandas\\io\\parsers\\readers.py:1217\u001b[0m, in \u001b[0;36mTextFileReader._make_engine\u001b[1;34m(self, f, engine)\u001b[0m\n\u001b[0;32m   1213\u001b[0m     mode \u001b[38;5;241m=\u001b[39m \u001b[38;5;124m\"\u001b[39m\u001b[38;5;124mrb\u001b[39m\u001b[38;5;124m\"\u001b[39m\n\u001b[0;32m   1214\u001b[0m \u001b[38;5;66;03m# error: No overload variant of \"get_handle\" matches argument types\u001b[39;00m\n\u001b[0;32m   1215\u001b[0m \u001b[38;5;66;03m# \"Union[str, PathLike[str], ReadCsvBuffer[bytes], ReadCsvBuffer[str]]\"\u001b[39;00m\n\u001b[0;32m   1216\u001b[0m \u001b[38;5;66;03m# , \"str\", \"bool\", \"Any\", \"Any\", \"Any\", \"Any\", \"Any\"\u001b[39;00m\n\u001b[1;32m-> 1217\u001b[0m \u001b[38;5;28mself\u001b[39m\u001b[38;5;241m.\u001b[39mhandles \u001b[38;5;241m=\u001b[39m \u001b[43mget_handle\u001b[49m\u001b[43m(\u001b[49m\u001b[43m  \u001b[49m\u001b[38;5;66;43;03m# type: ignore[call-overload]\u001b[39;49;00m\n\u001b[0;32m   1218\u001b[0m \u001b[43m    \u001b[49m\u001b[43mf\u001b[49m\u001b[43m,\u001b[49m\n\u001b[0;32m   1219\u001b[0m \u001b[43m    \u001b[49m\u001b[43mmode\u001b[49m\u001b[43m,\u001b[49m\n\u001b[0;32m   1220\u001b[0m \u001b[43m    \u001b[49m\u001b[43mencoding\u001b[49m\u001b[38;5;241;43m=\u001b[39;49m\u001b[38;5;28;43mself\u001b[39;49m\u001b[38;5;241;43m.\u001b[39;49m\u001b[43moptions\u001b[49m\u001b[38;5;241;43m.\u001b[39;49m\u001b[43mget\u001b[49m\u001b[43m(\u001b[49m\u001b[38;5;124;43m\"\u001b[39;49m\u001b[38;5;124;43mencoding\u001b[39;49m\u001b[38;5;124;43m\"\u001b[39;49m\u001b[43m,\u001b[49m\u001b[43m \u001b[49m\u001b[38;5;28;43;01mNone\u001b[39;49;00m\u001b[43m)\u001b[49m\u001b[43m,\u001b[49m\n\u001b[0;32m   1221\u001b[0m \u001b[43m    \u001b[49m\u001b[43mcompression\u001b[49m\u001b[38;5;241;43m=\u001b[39;49m\u001b[38;5;28;43mself\u001b[39;49m\u001b[38;5;241;43m.\u001b[39;49m\u001b[43moptions\u001b[49m\u001b[38;5;241;43m.\u001b[39;49m\u001b[43mget\u001b[49m\u001b[43m(\u001b[49m\u001b[38;5;124;43m\"\u001b[39;49m\u001b[38;5;124;43mcompression\u001b[39;49m\u001b[38;5;124;43m\"\u001b[39;49m\u001b[43m,\u001b[49m\u001b[43m \u001b[49m\u001b[38;5;28;43;01mNone\u001b[39;49;00m\u001b[43m)\u001b[49m\u001b[43m,\u001b[49m\n\u001b[0;32m   1222\u001b[0m \u001b[43m    \u001b[49m\u001b[43mmemory_map\u001b[49m\u001b[38;5;241;43m=\u001b[39;49m\u001b[38;5;28;43mself\u001b[39;49m\u001b[38;5;241;43m.\u001b[39;49m\u001b[43moptions\u001b[49m\u001b[38;5;241;43m.\u001b[39;49m\u001b[43mget\u001b[49m\u001b[43m(\u001b[49m\u001b[38;5;124;43m\"\u001b[39;49m\u001b[38;5;124;43mmemory_map\u001b[39;49m\u001b[38;5;124;43m\"\u001b[39;49m\u001b[43m,\u001b[49m\u001b[43m \u001b[49m\u001b[38;5;28;43;01mFalse\u001b[39;49;00m\u001b[43m)\u001b[49m\u001b[43m,\u001b[49m\n\u001b[0;32m   1223\u001b[0m \u001b[43m    \u001b[49m\u001b[43mis_text\u001b[49m\u001b[38;5;241;43m=\u001b[39;49m\u001b[43mis_text\u001b[49m\u001b[43m,\u001b[49m\n\u001b[0;32m   1224\u001b[0m \u001b[43m    \u001b[49m\u001b[43merrors\u001b[49m\u001b[38;5;241;43m=\u001b[39;49m\u001b[38;5;28;43mself\u001b[39;49m\u001b[38;5;241;43m.\u001b[39;49m\u001b[43moptions\u001b[49m\u001b[38;5;241;43m.\u001b[39;49m\u001b[43mget\u001b[49m\u001b[43m(\u001b[49m\u001b[38;5;124;43m\"\u001b[39;49m\u001b[38;5;124;43mencoding_errors\u001b[39;49m\u001b[38;5;124;43m\"\u001b[39;49m\u001b[43m,\u001b[49m\u001b[43m \u001b[49m\u001b[38;5;124;43m\"\u001b[39;49m\u001b[38;5;124;43mstrict\u001b[39;49m\u001b[38;5;124;43m\"\u001b[39;49m\u001b[43m)\u001b[49m\u001b[43m,\u001b[49m\n\u001b[0;32m   1225\u001b[0m \u001b[43m    \u001b[49m\u001b[43mstorage_options\u001b[49m\u001b[38;5;241;43m=\u001b[39;49m\u001b[38;5;28;43mself\u001b[39;49m\u001b[38;5;241;43m.\u001b[39;49m\u001b[43moptions\u001b[49m\u001b[38;5;241;43m.\u001b[39;49m\u001b[43mget\u001b[49m\u001b[43m(\u001b[49m\u001b[38;5;124;43m\"\u001b[39;49m\u001b[38;5;124;43mstorage_options\u001b[39;49m\u001b[38;5;124;43m\"\u001b[39;49m\u001b[43m,\u001b[49m\u001b[43m \u001b[49m\u001b[38;5;28;43;01mNone\u001b[39;49;00m\u001b[43m)\u001b[49m\u001b[43m,\u001b[49m\n\u001b[0;32m   1226\u001b[0m \u001b[43m\u001b[49m\u001b[43m)\u001b[49m\n\u001b[0;32m   1227\u001b[0m \u001b[38;5;28;01massert\u001b[39;00m \u001b[38;5;28mself\u001b[39m\u001b[38;5;241m.\u001b[39mhandles \u001b[38;5;129;01mis\u001b[39;00m \u001b[38;5;129;01mnot\u001b[39;00m \u001b[38;5;28;01mNone\u001b[39;00m\n\u001b[0;32m   1228\u001b[0m f \u001b[38;5;241m=\u001b[39m \u001b[38;5;28mself\u001b[39m\u001b[38;5;241m.\u001b[39mhandles\u001b[38;5;241m.\u001b[39mhandle\n",
      "File \u001b[1;32m~\\Anaconda3\\lib\\site-packages\\pandas\\io\\common.py:789\u001b[0m, in \u001b[0;36mget_handle\u001b[1;34m(path_or_buf, mode, encoding, compression, memory_map, is_text, errors, storage_options)\u001b[0m\n\u001b[0;32m    784\u001b[0m \u001b[38;5;28;01melif\u001b[39;00m \u001b[38;5;28misinstance\u001b[39m(handle, \u001b[38;5;28mstr\u001b[39m):\n\u001b[0;32m    785\u001b[0m     \u001b[38;5;66;03m# Check whether the filename is to be opened in binary mode.\u001b[39;00m\n\u001b[0;32m    786\u001b[0m     \u001b[38;5;66;03m# Binary mode does not support 'encoding' and 'newline'.\u001b[39;00m\n\u001b[0;32m    787\u001b[0m     \u001b[38;5;28;01mif\u001b[39;00m ioargs\u001b[38;5;241m.\u001b[39mencoding \u001b[38;5;129;01mand\u001b[39;00m \u001b[38;5;124m\"\u001b[39m\u001b[38;5;124mb\u001b[39m\u001b[38;5;124m\"\u001b[39m \u001b[38;5;129;01mnot\u001b[39;00m \u001b[38;5;129;01min\u001b[39;00m ioargs\u001b[38;5;241m.\u001b[39mmode:\n\u001b[0;32m    788\u001b[0m         \u001b[38;5;66;03m# Encoding\u001b[39;00m\n\u001b[1;32m--> 789\u001b[0m         handle \u001b[38;5;241m=\u001b[39m \u001b[38;5;28;43mopen\u001b[39;49m\u001b[43m(\u001b[49m\n\u001b[0;32m    790\u001b[0m \u001b[43m            \u001b[49m\u001b[43mhandle\u001b[49m\u001b[43m,\u001b[49m\n\u001b[0;32m    791\u001b[0m \u001b[43m            \u001b[49m\u001b[43mioargs\u001b[49m\u001b[38;5;241;43m.\u001b[39;49m\u001b[43mmode\u001b[49m\u001b[43m,\u001b[49m\n\u001b[0;32m    792\u001b[0m \u001b[43m            \u001b[49m\u001b[43mencoding\u001b[49m\u001b[38;5;241;43m=\u001b[39;49m\u001b[43mioargs\u001b[49m\u001b[38;5;241;43m.\u001b[39;49m\u001b[43mencoding\u001b[49m\u001b[43m,\u001b[49m\n\u001b[0;32m    793\u001b[0m \u001b[43m            \u001b[49m\u001b[43merrors\u001b[49m\u001b[38;5;241;43m=\u001b[39;49m\u001b[43merrors\u001b[49m\u001b[43m,\u001b[49m\n\u001b[0;32m    794\u001b[0m \u001b[43m            \u001b[49m\u001b[43mnewline\u001b[49m\u001b[38;5;241;43m=\u001b[39;49m\u001b[38;5;124;43m\"\u001b[39;49m\u001b[38;5;124;43m\"\u001b[39;49m\u001b[43m,\u001b[49m\n\u001b[0;32m    795\u001b[0m \u001b[43m        \u001b[49m\u001b[43m)\u001b[49m\n\u001b[0;32m    796\u001b[0m     \u001b[38;5;28;01melse\u001b[39;00m:\n\u001b[0;32m    797\u001b[0m         \u001b[38;5;66;03m# Binary mode\u001b[39;00m\n\u001b[0;32m    798\u001b[0m         handle \u001b[38;5;241m=\u001b[39m \u001b[38;5;28mopen\u001b[39m(handle, ioargs\u001b[38;5;241m.\u001b[39mmode)\n",
      "\u001b[1;31mFileNotFoundError\u001b[0m: [Errno 2] No such file or directory: ''"
     ]
    }
   ],
   "source": [
    "ResultsFile = \"\"\n",
    "Motionresults = pd.read_csv(ResultsFile)"
   ]
  },
  {
   "cell_type": "code",
   "execution_count": null,
   "id": "9f7250e4-bafa-4b4b-a578-623b9b109d0e",
   "metadata": {},
   "outputs": [],
   "source": [
    "TotalDistMultiVol = np.sqrt(Motionresults.XDistMultiVol**2 + Motionresults.YDistMultiVol**2)\n",
    "Motionresults['TotalDistMultiVol'] = TotalDistMultiVol"
   ]
  },
  {
   "cell_type": "code",
   "execution_count": null,
   "id": "47017119-a955-43c1-ab4a-97fd5d77abdf",
   "metadata": {},
   "outputs": [],
   "source": [
    "TotalDistUnWarpedMultiVol = np.sqrt(Motionresults.XDistUnWarpedMultiVol**2 + Motionresults.YDistUnWarpedMultiVol**2)\n",
    "Motionresults['TotalDistUnWarpedMultiVol'] = TotalDistUnWarpedMultiVol"
   ]
  },
  {
   "cell_type": "code",
   "execution_count": null,
   "id": "f742af8b-f943-4ecc-9544-cb93f73eb740",
   "metadata": {},
   "outputs": [],
   "source": [
    "Motionresults.head()"
   ]
  },
  {
   "cell_type": "code",
   "execution_count": null,
   "id": "78962bd7-9edc-45e7-93df-d9f2b6d9c44b",
   "metadata": {},
   "outputs": [],
   "source": [
    "Motionresults.tail()"
   ]
  },
  {
   "cell_type": "code",
   "execution_count": null,
   "id": "b799b3dd-3790-4753-b83e-c6f13977a624",
   "metadata": {},
   "outputs": [],
   "source": [
    "list(Motionresults.columns.values)"
   ]
  },
  {
   "cell_type": "code",
   "execution_count": null,
   "id": "ce1c0340-9c4f-48c0-9190-ab31da8124db",
   "metadata": {},
   "outputs": [],
   "source": [
    "s = Motionresults['XDistMultiVol'].size\n",
    "\n",
    "XDistNew = np.concatenate((Motionresults['XDistMultiVol'],Motionresults['XDistUnWarpedMultiVol']))\n",
    "YDistNew = np.concatenate((Motionresults['YDistMultiVol'],Motionresults['YDistUnWarpedMultiVol']))\n",
    "TotalDistNew = np.sqrt(XDistNew**2 + YDistNew**2)\n",
    "DiceNew = np.concatenate((Motionresults['DICEMultiVol'],Motionresults['DICEUnwarpedMultiVol']))\n",
    "MSDNew = np.concatenate((Motionresults['MSDMultiVol'],Motionresults['MSDUnwarpedMultiVol']))\n",
    "PatientNumNew = np.concatenate((Motionresults['PatientNum'],Motionresults['PatientNum']))\n",
    "VolumeFlagNew = np.concatenate((Motionresults['VolumeFlag'],Motionresults['VolumeFlag']))\n",
    "\n",
    "GroupingFlagNew = np.concatenate((Motionresults['VolumeFlag']*2,Motionresults['VolumeFlag']*2+1))\n",
    "UnWarpedVolFlag = np.concatenate((np.zeros(s),np.zeros(s)+1))\n",
    "\n",
    "TumourLocationNew = []\n",
    "for i in range(0,2*s):\n",
    "    #Do tumour location stuff\n",
    "    if PatientNumNew[i] <=5:\n",
    "        NewStr = 'Oropharynx'\n",
    "    elif PatientNumNew[i] > 5 and PatientNumNew[i] <=10:\n",
    "        NewStr = 'Larynx'\n",
    "    elif PatientNumNew[i] > 10:\n",
    "        NewStr = 'Nasopharynx'        \n",
    "    TumourLocationNew.append(NewStr)\n",
    "    "
   ]
  },
  {
   "cell_type": "code",
   "execution_count": null,
   "id": "1bdce777-56a5-4313-bab9-5ffc8e340dca",
   "metadata": {},
   "outputs": [],
   "source": [
    "UnWarpedVolFlag[:10]"
   ]
  },
  {
   "cell_type": "code",
   "execution_count": null,
   "id": "05686e5c-1fe7-4208-8491-c608b4ce8c48",
   "metadata": {},
   "outputs": [],
   "source": [
    "DataNew = {\n",
    "    'XDist':XDistNew,\n",
    "    'YDist':YDistNew,\n",
    "    'TotalDist':TotalDistNew,    \n",
    "    'Dice':DiceNew,\n",
    "    'MSD':MSDNew,\n",
    "    'PatientNum':PatientNumNew,\n",
    "    'TumourLocation':TumourLocationNew,\n",
    "    'VolumeFlag':VolumeFlagNew,\n",
    "    'GroupingFlag':GroupingFlagNew,\n",
    "    'VolFlag':UnWarpedVolFlag\n",
    "}"
   ]
  },
  {
   "cell_type": "code",
   "execution_count": null,
   "id": "5c8bf8d3-0269-40c3-88b1-13834fcd2d6e",
   "metadata": {},
   "outputs": [],
   "source": [
    "Newdf = pd.DataFrame(data=DataNew)"
   ]
  },
  {
   "cell_type": "code",
   "execution_count": null,
   "id": "21d0d742-b7eb-42de-a9ec-d2080ba6bf86",
   "metadata": {},
   "outputs": [],
   "source": [
    "Newdf.head()"
   ]
  },
  {
   "cell_type": "code",
   "execution_count": null,
   "id": "0b833af8-1e83-4e3a-89cf-90d1be0c9a9f",
   "metadata": {},
   "outputs": [],
   "source": [
    "hue_order_plot = [4,5,0,1,6,7]\n",
    "#hue_order_plot = [4,5,2,3,6,7]\n",
    "#hue_order_plot = [0,'5','0','1','6','7']"
   ]
  },
  {
   "cell_type": "markdown",
   "id": "9ae933ed-9458-4d95-8827-bc1d8ea40b97",
   "metadata": {},
   "source": [
    "Plot combined results"
   ]
  },
  {
   "cell_type": "code",
   "execution_count": null,
   "id": "959bd7c7-1097-4159-967d-6066aa732e9b",
   "metadata": {},
   "outputs": [],
   "source": [
    "g = sns.catplot(\n",
    "    x = 'TumourLocation',\n",
    "    y = 'TotalDist',\n",
    "    data = Newdf[(Newdf.GroupingFlag != 2) & (Newdf.GroupingFlag != 3)],\n",
    "    hue = 'VolFlag',\n",
    "    kind = 'violin',\n",
    "    height = 6,\n",
    "    aspect = 3,\n",
    "    cut = 0,\n",
    "    #hue_order=hue_order_plot,\n",
    "    inner = \"quartile\"#,\n",
    ")\n",
    "g._legend.remove()\n",
    "g.set_xlabels(\"Tumor Location\",fontsize=20)\n",
    "g.set_ylabels(\"Centroid Error (mm)\",fontsize=20)\n",
    "g.set_yticklabels( size = 20)\n",
    "g.set_xticklabels( size = 20)\n",
    "plt.ylim(0,7)\n",
    "plt.grid()\n",
    "plt.show()"
   ]
  },
  {
   "cell_type": "code",
   "execution_count": null,
   "id": "96d6f4b9-a215-4fc4-b1d1-62ebe4f620d5",
   "metadata": {},
   "outputs": [],
   "source": [
    "g = sns.catplot(\n",
    "    x = 'TumourLocation',\n",
    "    y = 'Dice',\n",
    "    data = Newdf[(Newdf.GroupingFlag != 2) & (Newdf.GroupingFlag != 3)],\n",
    "    hue = 'VolFlag',\n",
    "    kind = 'violin',\n",
    "    height = 6,\n",
    "    aspect = 3,\n",
    "    cut = 0,\n",
    "    #hue_order=hue_order_plot,\n",
    "    inner = \"quartile\"#,\n",
    ")\n",
    "g._legend.remove()\n",
    "g.set_xlabels(\"Tumor Location\",fontsize=20)\n",
    "g.set_ylabels(\"DSC [0,1]\",fontsize=20)\n",
    "g.set_yticklabels( size = 20)\n",
    "g.set_xticklabels( size = 20)\n",
    "plt.ylim(0.65,1.0)\n",
    "plt.grid()\n",
    "plt.show()"
   ]
  },
  {
   "cell_type": "code",
   "execution_count": null,
   "id": "8d40af77-df10-457f-a55f-48c6eef55ac9",
   "metadata": {},
   "outputs": [],
   "source": [
    "g = sns.catplot(\n",
    "    x = 'TumourLocation',\n",
    "    y = 'MSD',\n",
    "    data = Newdf[(Newdf.GroupingFlag != 2) & (Newdf.GroupingFlag != 3)],\n",
    "    hue = 'VolFlag',\n",
    "    kind = 'violin',\n",
    "    height = 6,\n",
    "    aspect = 3,\n",
    "    cut = 0,\n",
    "    #hue_order=hue_order_plot,\n",
    "    inner = \"quartile\"#,\n",
    ")\n",
    "g._legend.remove()\n",
    "g.set_xlabels(\"Tumor Location\",fontsize=20)\n",
    "g.set_ylabels(\"MSD (mm)\",fontsize=20)\n",
    "g.set_yticklabels( size = 20)\n",
    "g.set_xticklabels( size = 20)\n",
    "plt.ylim(0,5)\n",
    "plt.grid()\n",
    "plt.show()"
   ]
  },
  {
   "cell_type": "markdown",
   "id": "0bc639fe-b246-47f0-8367-d39fdf8914a2",
   "metadata": {},
   "source": [
    "Plot results for the different levels of deformation"
   ]
  },
  {
   "cell_type": "code",
   "execution_count": null,
   "id": "76d842d4-50de-4ecd-b727-456598a1beaf",
   "metadata": {},
   "outputs": [],
   "source": [
    "g = sns.catplot(\n",
    "    x = 'TumourLocation',\n",
    "    y = 'TotalDist',\n",
    "    data = Newdf[(Newdf.GroupingFlag != 2) & (Newdf.GroupingFlag != 3)],\n",
    "    hue = 'GroupingFlag',\n",
    "    kind = 'violin',\n",
    "    height = 6,\n",
    "    aspect = 3,\n",
    "    cut = 0,\n",
    "    hue_order=hue_order_plot,\n",
    "    inner = \"quartile\",\n",
    "    palette=sns.color_palette(\"Set2\")#,\n",
    "    #split = True # width is 2 times the height\n",
    ");\n",
    "g._legend.remove()\n",
    "g.set_xlabels(\"Tumor Location\",fontsize=20)\n",
    "g.set_ylabels(\"Centroid Error (mm)\",fontsize=20)\n",
    "g.set_yticklabels( size = 20)\n",
    "g.set_xticklabels( size = 20)\n",
    "plt.ylim(0,5)\n",
    "plt.grid()\n",
    "plt.show()"
   ]
  },
  {
   "cell_type": "code",
   "execution_count": null,
   "id": "dba545f0-83fb-4bfc-bcbc-e79e5bf19042",
   "metadata": {},
   "outputs": [],
   "source": [
    "g = sns.catplot(\n",
    "    x = 'TumourLocation',\n",
    "    y = 'Dice',\n",
    "    data = Newdf[(Newdf.GroupingFlag != 2) & (Newdf.GroupingFlag != 3)],\n",
    "    hue = 'GroupingFlag',\n",
    "    kind = 'violin',\n",
    "    height = 6,\n",
    "    aspect = 3,\n",
    "    cut = 0,\n",
    "    hue_order=hue_order_plot,\n",
    "    inner = \"quartile\",\n",
    "    palette=sns.color_palette(\"Set2\")#,\n",
    "    #split = True # width is 2 times the height\n",
    ");\n",
    "g._legend.remove()\n",
    "g.set_xlabels(\"Tumor Location\",fontsize=20)\n",
    "g.set_ylabels(\"DSC [0,1]\",fontsize=20)\n",
    "g.set_yticklabels( size = 20)\n",
    "g.set_xticklabels( size = 20)\n",
    "plt.ylim(0.72,0.975)\n",
    "plt.grid()\n",
    "plt.show()"
   ]
  },
  {
   "cell_type": "code",
   "execution_count": null,
   "id": "6b8acf67-a136-41fe-9017-30663079ea7b",
   "metadata": {},
   "outputs": [],
   "source": [
    "g = sns.catplot(\n",
    "    x = 'TumourLocation',\n",
    "    y = 'MSD',\n",
    "    data = Newdf[(Newdf.GroupingFlag != 2) & (Newdf.GroupingFlag != 3)],\n",
    "    hue = 'GroupingFlag',\n",
    "    kind = 'violin',\n",
    "    height = 6,\n",
    "    aspect = 3,\n",
    "    cut = 0,\n",
    "    hue_order=hue_order_plot,\n",
    "    inner = \"quartile\",\n",
    "    palette=sns.color_palette(\"Set2\")#,\n",
    "    #split = True # width is 2 times the height\n",
    ");\n",
    "g._legend.remove()\n",
    "g.set_xlabels(\"Tumor Location\",fontsize=20)\n",
    "g.set_ylabels(\"MSD (mm)\",fontsize=20)\n",
    "g.set_yticklabels( size = 20)\n",
    "g.set_xticklabels( size = 20)\n",
    "plt.ylim(0,4.5)\n",
    "plt.grid()\n",
    "plt.show()"
   ]
  },
  {
   "cell_type": "markdown",
   "id": "ece5aed4-233a-4e68-b049-16c8fc2b57c8",
   "metadata": {},
   "source": [
    "Plot results for each patient"
   ]
  },
  {
   "cell_type": "code",
   "execution_count": null,
   "id": "65a84642-a82f-43b7-97db-897aa3caf8b3",
   "metadata": {},
   "outputs": [],
   "source": [
    "g = sns.catplot(\n",
    "    x = 'PatientNum',\n",
    "    y = 'TotalDist',\n",
    "    data = Newdf[(Newdf.GroupingFlag != 2) & (Newdf.GroupingFlag != 3) & (Newdf.PatientNum <= 5)],\n",
    "    hue = 'GroupingFlag',\n",
    "    kind = 'violin',\n",
    "    height = 6,\n",
    "    aspect = 3,\n",
    "    cut = 0,\n",
    "    hue_order=hue_order_plot,\n",
    "    inner = \"quartile\"#,\n",
    "    #split = True # width is 2 times the height\n",
    ");\n",
    "g = sns.catplot(\n",
    "    x = 'PatientNum',\n",
    "    y = 'TotalDist',\n",
    "    data = Newdf[(Newdf.GroupingFlag != 2) & (Newdf.GroupingFlag != 3) & (Newdf.PatientNum > 5) & (Newdf.PatientNum <= 10) ],\n",
    "    hue = 'GroupingFlag',\n",
    "    kind = 'violin',\n",
    "    height = 6,\n",
    "    aspect = 3,\n",
    "    cut = 0,\n",
    "    hue_order=hue_order_plot,\n",
    "    inner = \"quartile\"#,\n",
    "    #split = True # width is 2 times the height\n",
    ");\n",
    "g = sns.catplot(\n",
    "    x = 'PatientNum',\n",
    "    y = 'TotalDist',\n",
    "    data = Newdf[(Newdf.GroupingFlag != 2) & (Newdf.GroupingFlag != 3) & (Newdf.PatientNum > 10)],\n",
    "    hue = 'GroupingFlag',\n",
    "    kind = 'violin',\n",
    "    height = 6,\n",
    "    aspect = 3,\n",
    "    cut = 0,\n",
    "    hue_order=hue_order_plot,\n",
    "    inner = \"quartile\"#,\n",
    "    #split = True # width is 2 times the height\n",
    ");"
   ]
  },
  {
   "cell_type": "markdown",
   "id": "9303ae9f-4b8e-4df1-9d27-aeced0150002",
   "metadata": {},
   "source": [
    "Get Stats"
   ]
  },
  {
   "cell_type": "code",
   "execution_count": null,
   "id": "cb44fa4e-892d-4404-9ca3-93b29988595b",
   "metadata": {},
   "outputs": [],
   "source": [
    "Newdf[(Newdf.VolumeFlag != 1) & (Newdf.VolFlag == 0)].describe()"
   ]
  },
  {
   "cell_type": "code",
   "execution_count": null,
   "id": "4d080a91-303c-498a-b48c-0d5756536f95",
   "metadata": {},
   "outputs": [],
   "source": [
    "Newdf[(Newdf.VolumeFlag != 1) & (Newdf.VolFlag == 0)].quantile([0.05,0.95])"
   ]
  },
  {
   "cell_type": "code",
   "execution_count": null,
   "id": "313cd950-6f53-438f-a018-51c9eb8320c8",
   "metadata": {},
   "outputs": [],
   "source": [
    "PatientNumTab = np.arange(1,Newdf.PatientNum.max()+1)\n",
    "XDistTab = []\n",
    "YDistTab = []\n",
    "XDistTabStd = []\n",
    "YDistTabStd = []\n",
    "TotalDistTab = []\n",
    "TotalDistTabStd = []\n",
    "DiceTab = []\n",
    "DiceTabStd = []\n",
    "MSDTab = []\n",
    "MSDTabStd = []\n",
    "for i in range(0,Newdf.PatientNum.max()):\n",
    "    XDistTab.append(Newdf[(Newdf.PatientNum == i+1) & (Newdf.VolumeFlag != 1) & (Newdf.VolFlag == 0)].XDist.mean())\n",
    "    YDistTab.append(Newdf[(Newdf.PatientNum == i+1) & (Newdf.VolumeFlag != 1) & (Newdf.VolFlag == 0)].YDist.mean())\n",
    "    XDistTabStd.append(Newdf[(Newdf.PatientNum == i+1) & (Newdf.VolumeFlag != 1) & (Newdf.VolFlag == 0)].XDist.std())\n",
    "    YDistTabStd.append(Newdf[(Newdf.PatientNum == i+1) & (Newdf.VolumeFlag != 1) & (Newdf.VolFlag == 0)].YDist.std())\n",
    "    TotalDistTab.append(Newdf[(Newdf.PatientNum == i+1) & (Newdf.VolumeFlag != 1) & (Newdf.VolFlag == 0)].TotalDist.mean())\n",
    "    TotalDistTabStd.append(Newdf[(Newdf.PatientNum == i+1) & (Newdf.VolumeFlag != 1) & (Newdf.VolFlag == 0)].TotalDist.std())\n",
    "    DiceTab.append(Newdf[(Newdf.PatientNum == i+1) & (Newdf.VolumeFlag != 1) & (Newdf.VolFlag == 0)].Dice.mean())\n",
    "    DiceTabStd.append(Newdf[(Newdf.PatientNum == i+1) & (Newdf.VolumeFlag != 1) & (Newdf.VolFlag == 0)].Dice.std())\n",
    "    MSDTab.append(Newdf[(Newdf.PatientNum == i+1) & (Newdf.VolumeFlag != 1) & (Newdf.VolFlag == 0)].MSD.mean())\n",
    "    MSDTabStd.append(Newdf[(Newdf.PatientNum == i+1) & (Newdf.VolumeFlag != 1) & (Newdf.VolFlag == 0)].MSD.std())   "
   ]
  },
  {
   "cell_type": "code",
   "execution_count": null,
   "id": "2b1d219f-305b-4578-b591-b7f518f47341",
   "metadata": {},
   "outputs": [],
   "source": [
    "dStats = {\n",
    "    'PatientNum':PatientNumTab, \n",
    "    'XDist':XDistTab,\n",
    "    'XDistStd':XDistTabStd,\n",
    "    'YDist':YDistTab   ,\n",
    "    'YDistStd': YDistTabStd,\n",
    "    'TotalDist':TotalDistTab,\n",
    "    'TotalDistStd':TotalDistTabStd,\n",
    "    'Dice':DiceTab,\n",
    "    'DiceStd':DiceTabStd,\n",
    "    'MSD':MSDTab,\n",
    "    'MSDStd':MSDTabStd\n",
    "}\n",
    "dfWarpedStats = pd.DataFrame(data=dStats)\n",
    "dfWarpedStats"
   ]
  },
  {
   "cell_type": "code",
   "execution_count": null,
   "id": "6ad2be99-9ce3-4d41-8a87-200b833ba16a",
   "metadata": {},
   "outputs": [],
   "source": [
    "Newdf[(Newdf.VolumeFlag != 1) & (Newdf.VolFlag == 0) & (Newdf.PatientNum <= 5)].describe()"
   ]
  },
  {
   "cell_type": "code",
   "execution_count": null,
   "id": "2f38bf5c-de9c-45de-b3bd-16c8aa3e9730",
   "metadata": {},
   "outputs": [],
   "source": [
    "Newdf[(Newdf.VolumeFlag != 1) & (Newdf.VolFlag == 0) & (Newdf.PatientNum <= 5)].quantile([0.05,0.95])"
   ]
  },
  {
   "cell_type": "code",
   "execution_count": null,
   "id": "ddf117e1-3e28-426b-a5b8-f1dca40fd6f9",
   "metadata": {},
   "outputs": [],
   "source": [
    "Newdf[(Newdf.VolumeFlag != 1) & (Newdf.VolFlag == 0) & (Newdf.PatientNum > 5) & (Newdf.PatientNum <= 10)].describe()"
   ]
  },
  {
   "cell_type": "code",
   "execution_count": null,
   "id": "8d626ac1-eb77-49b1-a094-5c7c97e051e5",
   "metadata": {},
   "outputs": [],
   "source": [
    "Newdf[(Newdf.VolumeFlag != 1) & (Newdf.VolFlag == 0) & (Newdf.PatientNum > 5) & (Newdf.PatientNum <= 10)].quantile([0.05,0.95])"
   ]
  },
  {
   "cell_type": "code",
   "execution_count": null,
   "id": "90a31557-fde0-4ef2-bc88-0fd9d6717725",
   "metadata": {},
   "outputs": [],
   "source": [
    "Newdf[(Newdf.VolumeFlag != 1) & (Newdf.VolFlag == 0) & (Newdf.PatientNum > 10)].describe()"
   ]
  },
  {
   "cell_type": "code",
   "execution_count": null,
   "id": "3a899348-9ef3-46e0-b22b-d49492d83f14",
   "metadata": {},
   "outputs": [],
   "source": [
    "Newdf[(Newdf.VolumeFlag != 1) & (Newdf.VolFlag == 0) & (Newdf.PatientNum > 10)].quantile([0.05,0.95])"
   ]
  }
 ],
 "metadata": {
  "kernelspec": {
   "display_name": "Python 3 (ipykernel)",
   "language": "python",
   "name": "python3"
  },
  "language_info": {
   "codemirror_mode": {
    "name": "ipython",
    "version": 3
   },
   "file_extension": ".py",
   "mimetype": "text/x-python",
   "name": "python",
   "nbconvert_exporter": "python",
   "pygments_lexer": "ipython3",
   "version": "3.9.12"
  }
 },
 "nbformat": 4,
 "nbformat_minor": 5
}
